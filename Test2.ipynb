{
 "cells": [
  {
   "cell_type": "code",
   "execution_count": 20,
   "metadata": {},
   "outputs": [],
   "source": [
    "import pandas as pd\n",
    "import seaborn as sns\n",
    "import matplotlib.pyplot as plt\n",
    "import ast\n",
    "import pandas as pd\n",
    "from sklearn.model_selection import train_test_split\n",
    "from sklearn.feature_extraction.text import TfidfVectorizer\n",
    "from sklearn.linear_model import LogisticRegression\n",
    "from sklearn.svm import SVC\n",
    "from sklearn.metrics import classification_report\n",
    "import matplotlib.pyplot as plt\n",
    "from sklearn.metrics import confusion_matrix, ConfusionMatrixDisplay"
   ]
  },
  {
   "cell_type": "code",
   "execution_count": 21,
   "metadata": {},
   "outputs": [
    {
     "name": "stdout",
     "output_type": "stream",
     "text": [
      "Classification Report for Domain 1:\n",
      "              precision    recall  f1-score   support\n",
      "\n",
      "           0       0.82      0.73      0.78       500\n",
      "           1       0.76      0.84      0.80       500\n",
      "\n",
      "    accuracy                           0.79      1000\n",
      "   macro avg       0.79      0.79      0.79      1000\n",
      "weighted avg       0.79      0.79      0.79      1000\n",
      "\n",
      "Classification Report for Domain 2:\n",
      "              precision    recall  f1-score   support\n",
      "\n",
      "           0       0.88      1.00      0.94      2289\n",
      "           1       1.00      0.01      0.02       311\n",
      "\n",
      "    accuracy                           0.88      2600\n",
      "   macro avg       0.94      0.50      0.48      2600\n",
      "weighted avg       0.90      0.88      0.83      2600\n",
      "\n"
     ]
    }
   ],
   "source": [
    "# Assuming the import and initial data setup is something like this:\n",
    "import pandas as pd\n",
    "from sklearn.model_selection import train_test_split\n",
    "from sklearn.feature_extraction.text import TfidfVectorizer\n",
    "\n",
    "# Load the data\n",
    "domain1_train_data = pd.read_json('domain1_train_data.json', lines=True)\n",
    "domain2_train_data = pd.read_json('domain2_train_data.json', lines=True)\n",
    "# get the features and labels\n",
    "X_d1 = domain1_train_data['text']\n",
    "y_d1 = domain1_train_data['label']\n",
    "\n",
    "X_d2 = domain2_train_data['text']\n",
    "y_d2 = domain2_train_data['label']\n",
    "\n",
    "# Split the data into training and validation sets\n",
    "X_d1_train, X_d1_val, y_d1_train, y_d1_val = train_test_split(X_d1, y_d1, test_size=0.2, random_state=42)\n",
    "X_d2_train, X_d2_val, y_d2_train, y_d2_val = train_test_split(X_d2, y_d2, test_size=0.2, random_state=42)\n",
    "\n",
    "from sklearn.feature_extraction.text import TfidfVectorizer\n",
    "from sklearn.svm import SVC\n",
    "\n",
    "X_d1_train_str = [' '.join(map(str, lst)) for lst in X_d1_train]\n",
    "X_d1_val_str = [' '.join(map(str, lst)) for lst in X_d1_val]\n",
    "\n",
    "X_d2_train_str = [' '.join(map(str, lst)) for lst in X_d2_train]\n",
    "X_d2_val_str = [' '.join(map(str, lst)) for lst in X_d2_val]\n",
    "\n",
    "# Initialize a single TfidfVectorizer\n",
    "vectorizer = TfidfVectorizer(stop_words=None, min_df=1)\n",
    "\n",
    "# Fit and transform the training data from domain 1\n",
    "X_d1_train_vec = vectorizer.fit_transform(X_d1_train_str)\n",
    "\n",
    "# Transform the validation data from domain 1\n",
    "X_d1_val_vec = vectorizer.transform(X_d1_val_str)\n",
    "\n",
    "# Transform the training and validation data from domain 2 using the same vectorizer\n",
    "X_d2_train_vec = vectorizer.transform(X_d2_train_str)\n",
    "X_d2_val_vec = vectorizer.transform(X_d2_val_str)\n",
    "\n",
    "# Train and evaluate SVM models for each domain as before\n",
    "svm_model_d1 = SVC()\n",
    "svm_model_d1.fit(X_d1_train_vec, y_d1_train)\n",
    "y_d1_val_pred = svm_model_d1.predict(X_d1_val_vec)\n",
    "\n",
    "svm_model_d2 = SVC()\n",
    "svm_model_d2.fit(X_d2_train_vec, y_d2_train)\n",
    "y_d2_val_pred = svm_model_d2.predict(X_d2_val_vec)\n",
    "\n",
    "# Print classification reports (assuming import of classification_report)\n",
    "print(\"Classification Report for Domain 1:\")\n",
    "print(classification_report(y_d1_val, y_d1_val_pred))\n",
    "print(\"Classification Report for Domain 2:\")\n",
    "print(classification_report(y_d2_val, y_d2_val_pred))\n",
    "\n"
   ]
  },
  {
   "cell_type": "code",
   "execution_count": 22,
   "metadata": {},
   "outputs": [
    {
     "name": "stdout",
     "output_type": "stream",
     "text": [
      "Classification Report for Domain 1:\n",
      "              precision    recall  f1-score   support\n",
      "\n",
      "           0       0.82      0.73      0.78       500\n",
      "           1       0.76      0.84      0.80       500\n",
      "\n",
      "    accuracy                           0.79      1000\n",
      "   macro avg       0.79      0.79      0.79      1000\n",
      "weighted avg       0.79      0.79      0.79      1000\n",
      "\n",
      "Classification Report for Domain 2:\n",
      "              precision    recall  f1-score   support\n",
      "\n",
      "           0       0.88      1.00      0.94      2289\n",
      "           1       1.00      0.01      0.02       311\n",
      "\n",
      "    accuracy                           0.88      2600\n",
      "   macro avg       0.94      0.50      0.48      2600\n",
      "weighted avg       0.90      0.88      0.83      2600\n",
      "\n"
     ]
    }
   ],
   "source": [
    "from sklearn.metrics import classification_report\n",
    "print(\"Classification Report for Domain 1:\")\n",
    "print(classification_report(y_d1_val, y_d1_val_pred))\n",
    "\n",
    "print(\"Classification Report for Domain 2:\")\n",
    "print(classification_report(y_d2_val, y_d2_val_pred))"
   ]
  },
  {
   "cell_type": "code",
   "execution_count": 23,
   "metadata": {},
   "outputs": [
    {
     "name": "stdout",
     "output_type": "stream",
     "text": [
      "Evaluation of Domain 1 Model on Domain 2 Data:\n",
      "              precision    recall  f1-score   support\n",
      "\n",
      "           0       0.95      0.35      0.51      2289\n",
      "           1       0.15      0.86      0.26       311\n",
      "\n",
      "    accuracy                           0.41      2600\n",
      "   macro avg       0.55      0.60      0.38      2600\n",
      "weighted avg       0.85      0.41      0.48      2600\n",
      "\n",
      "Evaluation of Domain 2 Model on Domain 1 Data:\n",
      "              precision    recall  f1-score   support\n",
      "\n",
      "           0       0.50      1.00      0.67       500\n",
      "           1       0.00      0.00      0.00       500\n",
      "\n",
      "    accuracy                           0.50      1000\n",
      "   macro avg       0.25      0.50      0.33      1000\n",
      "weighted avg       0.25      0.50      0.33      1000\n",
      "\n"
     ]
    },
    {
     "name": "stderr",
     "output_type": "stream",
     "text": [
      "c:\\Users\\wenji\\anaconda3\\envs\\SML_A1\\Lib\\site-packages\\sklearn\\metrics\\_classification.py:1469: UndefinedMetricWarning: Precision and F-score are ill-defined and being set to 0.0 in labels with no predicted samples. Use `zero_division` parameter to control this behavior.\n",
      "  _warn_prf(average, modifier, msg_start, len(result))\n",
      "c:\\Users\\wenji\\anaconda3\\envs\\SML_A1\\Lib\\site-packages\\sklearn\\metrics\\_classification.py:1469: UndefinedMetricWarning: Precision and F-score are ill-defined and being set to 0.0 in labels with no predicted samples. Use `zero_division` parameter to control this behavior.\n",
      "  _warn_prf(average, modifier, msg_start, len(result))\n",
      "c:\\Users\\wenji\\anaconda3\\envs\\SML_A1\\Lib\\site-packages\\sklearn\\metrics\\_classification.py:1469: UndefinedMetricWarning: Precision and F-score are ill-defined and being set to 0.0 in labels with no predicted samples. Use `zero_division` parameter to control this behavior.\n",
      "  _warn_prf(average, modifier, msg_start, len(result))\n"
     ]
    }
   ],
   "source": [
    "# Predict domain2 data using model trained on domain1\n",
    "y_d2_pred_by_d1 = svm_model_d1.predict(X_d2_val_vec)\n",
    "print(\"Evaluation of Domain 1 Model on Domain 2 Data:\")\n",
    "print(classification_report(y_d2_val, y_d2_pred_by_d1))\n",
    "\n",
    "# Predict domain1 data using model trained on domain2\n",
    "y_d1_pred_by_d2 = svm_model_d2.predict(X_d1_val_vec)\n",
    "print(\"Evaluation of Domain 2 Model on Domain 1 Data:\")\n",
    "print(classification_report(y_d1_val, y_d1_pred_by_d2))"
   ]
  }
 ],
 "metadata": {
  "kernelspec": {
   "display_name": "SML_A1",
   "language": "python",
   "name": "python3"
  },
  "language_info": {
   "codemirror_mode": {
    "name": "ipython",
    "version": 3
   },
   "file_extension": ".py",
   "mimetype": "text/x-python",
   "name": "python",
   "nbconvert_exporter": "python",
   "pygments_lexer": "ipython3",
   "version": "3.12.2"
  }
 },
 "nbformat": 4,
 "nbformat_minor": 2
}
